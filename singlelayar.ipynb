{
  "nbformat": 4,
  "nbformat_minor": 0,
  "metadata": {
    "colab": {
      "name": "singlelayar.ipynb",
      "provenance": [],
      "collapsed_sections": [],
      "authorship_tag": "ABX9TyOZJSo3+o91UOzl1ptc3Zho",
      "include_colab_link": true
    },
    "kernelspec": {
      "name": "python3",
      "display_name": "Python 3"
    }
  },
  "cells": [
    {
      "cell_type": "markdown",
      "metadata": {
        "id": "view-in-github",
        "colab_type": "text"
      },
      "source": [
        "<a href=\"https://colab.research.google.com/github/vikas4128/emotion-detection-raspberry/blob/master/singlelayar.ipynb\" target=\"_parent\"><img src=\"https://colab.research.google.com/assets/colab-badge.svg\" alt=\"Open In Colab\"/></a>"
      ]
    },
    {
      "cell_type": "code",
      "metadata": {
        "colab": {
          "base_uri": "https://localhost:8080/"
        },
        "id": "Ga1_hAxjrapM",
        "outputId": "54995add-83fc-485a-ccfe-b7ff5cbaa308"
      },
      "source": [
        "from random import seed\r\n",
        "from random import randrange\r\n",
        "from csv import reader\r\n",
        "\r\n",
        "def load_csv(filename):\r\n",
        "\tdataset = list()\r\n",
        "\twith open(filename, 'r') as file:\r\n",
        "\t\tcsv_reader = reader(file)\r\n",
        "\t\tfor row in csv_reader:\r\n",
        "\t\t\tif not row:\r\n",
        "\t\t\t\tcontinue\r\n",
        "\t\t\tdataset.append(row)\r\n",
        "\treturn dataset\r\n",
        "\r\n",
        "def str_column_to_float(dataset, column):\r\n",
        "\tfor row in dataset:\r\n",
        "\t\trow[column] = float(row[column].strip())\r\n",
        "\r\n",
        "def str_column_to_int(dataset, column):\r\n",
        "\tclass_values = [row[column] for row in dataset]\r\n",
        "\tunique = set(class_values)\r\n",
        "\tlookup = dict()\r\n",
        "\tfor i, value in enumerate(unique):\r\n",
        "\t\tlookup[value] = i\r\n",
        "\tfor row in dataset:\r\n",
        "\t\trow[column] = lookup[row[column]]\r\n",
        "\treturn lookup\r\n",
        "\r\n",
        "def cross_validation_split(dataset, n_folds):\r\n",
        "\tdataset_split = list()\r\n",
        "\tdataset_copy = list(dataset)\r\n",
        "\tfold_size = int(len(dataset) / n_folds)\r\n",
        "\tfor i in range(n_folds):\r\n",
        "\t\tfold = list()\r\n",
        "\t\twhile len(fold) < fold_size:\r\n",
        "\t\t\tindex = randrange(len(dataset_copy))\r\n",
        "\t\t\tfold.append(dataset_copy.pop(index))\r\n",
        "\t\tdataset_split.append(fold)\r\n",
        "\treturn dataset_split\r\n",
        "\r\n",
        "def accuracy_metric(actual, predicted):\r\n",
        "\tcorrect = 0\r\n",
        "\tfor i in range(len(actual)):\r\n",
        "\t\tif actual[i] == predicted[i]:\r\n",
        "\t\t\tcorrect += 1\r\n",
        "\treturn correct / float(len(actual)) * 100.0\r\n",
        "\r\n",
        "def evaluate_algorithm(dataset, algorithm, n_folds, *args):\r\n",
        "\tfolds = cross_validation_split(dataset, n_folds)\r\n",
        "\tscores = list()\r\n",
        "\tfor fold in folds:\r\n",
        "\t\ttrain_set = list(folds)\r\n",
        "\t\ttrain_set.remove(fold)\r\n",
        "\t\ttrain_set = sum(train_set, [])\r\n",
        "\t\ttest_set = list()\r\n",
        "\t\tfor row in fold:\r\n",
        "\t\t\trow_copy = list(row)\r\n",
        "\t\t\ttest_set.append(row_copy)\r\n",
        "\t\t\trow_copy[-1] = None\r\n",
        "\t\tpredicted = algorithm(train_set, test_set, *args)\r\n",
        "\t\tactual = [row[-1] for row in fold]\r\n",
        "\t\taccuracy = accuracy_metric(actual, predicted)\r\n",
        "\t\tscores.append(accuracy)\r\n",
        "\treturn scores\r\n",
        "\r\n",
        "def predict(row, weights):\r\n",
        "\tactivation = weights[0]\r\n",
        "\tfor i in range(len(row)-1):\r\n",
        "\t\tactivation += weights[i + 1] * row[i]\r\n",
        "\treturn 1.0 if activation >= 0.0 else 0.0\r\n",
        "\r\n",
        "def train_weights(train, l_rate, n_epoch):\r\n",
        "\tweights = [0.0 for i in range(len(train[0]))]\r\n",
        "\tfor epoch in range(n_epoch):\r\n",
        "\t\tfor row in train:\r\n",
        "\t\t\tprediction = predict(row, weights)\r\n",
        "\t\t\terror = row[-1] - prediction\r\n",
        "\t\t\tweights[0] = weights[0] + l_rate * error\r\n",
        "\t\t\tfor i in range(len(row)-1):\r\n",
        "\t\t\t\tweights[i + 1] = weights[i + 1] + l_rate * error * row[i]\r\n",
        "\treturn weights\r\n",
        "\r\n",
        "def perceptron(train, test, l_rate, n_epoch):\r\n",
        "\tpredictions = list()\r\n",
        "\tweights = train_weights(train, l_rate, n_epoch)\r\n",
        "\tfor row in test:\r\n",
        "\t\tprediction = predict(row, weights)\r\n",
        "\t\tpredictions.append(prediction)\r\n",
        "\treturn(predictions)\r\n",
        "\r\n",
        "seed(1)\r\n",
        "\r\n",
        "filename = 'sonar.all-data.csv'\r\n",
        "dataset = load_csv(filename)\r\n",
        "for i in range(len(dataset[0])-1):\r\n",
        "\tstr_column_to_float(dataset, i)\r\n",
        "\r\n",
        "str_column_to_int(dataset, len(dataset[0])-1)\r\n",
        "\r\n",
        "n_folds = 3\r\n",
        "l_rate = 0.01\r\n",
        "n_epoch = 800\r\n",
        "scores = evaluate_algorithm(dataset, perceptron, n_folds, l_rate, n_epoch)\r\n",
        "print('Scores: %s' % scores)\r\n",
        "print('Mean Accuracy: %.3f%%' % (sum(scores)/float(len(scores))))"
      ],
      "execution_count": 10,
      "outputs": [
        {
          "output_type": "stream",
          "text": [
            "Scores: [79.71014492753623, 73.91304347826086, 69.56521739130434]\n",
            "Mean Accuracy: 74.396%\n"
          ],
          "name": "stdout"
        }
      ]
    }
  ]
}